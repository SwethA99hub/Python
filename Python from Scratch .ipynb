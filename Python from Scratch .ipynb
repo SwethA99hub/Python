{
 "cells": [
  {
   "cell_type": "raw",
   "id": "c1125d1b",
   "metadata": {},
   "source": [
    "## python \n",
    "- Python is a programming language. \n",
    "- introduced by van gudio russom , released in 1991.\n",
    "\n",
    "it is used for :\n",
    "- web development \n",
    "- mathematics \n",
    "- system scripting.\n",
    "\n",
    "why python?\n",
    "- Python let's you code in fewer lines compared to any other programming language.\n",
    "- it's a object oriented.\n",
    "- python runs on an interpreter system ,it start executting as soon as the code is written.\n"
   ]
  },
  {
   "cell_type": "markdown",
   "id": "f3b08ee9",
   "metadata": {},
   "source": [
    "from IPython.display import Image\n",
    "  \n",
    "# get the image\n",
    "Image(url=\"snowfall4.jpeg\", width=300, height=300)"
   ]
  },
  {
   "attachments": {
    "python.jpg": {
     "image/jpeg": "[encoded data removed]"
    }
   },
   "cell_type": "markdown",
   "id": "dee7438a",
   "metadata": {},
   "source": [
    "![python.jpg](attachment:python.jpg)"
   ]
  },
  {
   "cell_type": "markdown",
   "id": "78afd0a2",
   "metadata": {},
   "source": [
    "## Print Function"
   ]
  },
  {
   "cell_type": "code",
   "execution_count": 2,
   "id": "d7743bde",
   "metadata": {},
   "outputs": [
    {
     "name": "stdout",
     "output_type": "stream",
     "text": [
      "Hello World!\n"
     ]
    }
   ],
   "source": [
    "print('Hello World!')"
   ]
  },
  {
   "cell_type": "markdown",
   "id": "aa3dfb89",
   "metadata": {},
   "source": [
    "##### PYTHON SYNTAX"
   ]
  },
  {
   "cell_type": "markdown",
   "id": "97c36f7d",
   "metadata": {},
   "source": [
    "- PYTHON SYNTAX can be written directly in command line."
   ]
  },
  {
   "cell_type": "markdown",
   "id": "187ccd5f",
   "metadata": {},
   "source": [
    "### Python Indentation "
   ]
  },
  {
   "cell_type": "markdown",
   "id": "ccc74e22",
   "metadata": {},
   "source": [
    "- Indentation reffers to space at the begining of the code.\n",
    "- where as indentation in other programming language for readability, but in python it is used\n",
    "to block the code."
   ]
  },
  {
   "cell_type": "markdown",
   "id": "cac6af3e",
   "metadata": {},
   "source": [
    "EXAMPLE: "
   ]
  },
  {
   "cell_type": "code",
   "execution_count": 5,
   "id": "1f5f122f",
   "metadata": {},
   "outputs": [
    {
     "name": "stdout",
     "output_type": "stream",
     "text": [
      "Five is greater than Two\n"
     ]
    }
   ],
   "source": [
    "if 5>2:\n",
    "    print('Five is greater than Two')"
   ]
  },
  {
   "cell_type": "markdown",
   "id": "fe4c57d0",
   "metadata": {},
   "source": [
    "### comment "
   ]
  },
  {
   "cell_type": "markdown",
   "id": "c336571f",
   "metadata": {},
   "source": [
    "- Hastage is used for comment.\n",
    "- comment lets you prevent from executing the code.\n",
    "- comment let the code more readable."
   ]
  },
  {
   "cell_type": "raw",
   "id": "91108437",
   "metadata": {},
   "source": [
    "EX: \n",
    "##### This is a python programming language."
   ]
  },
  {
   "cell_type": "markdown",
   "id": "13ac8dab",
   "metadata": {},
   "source": [
    "### Creating Variables"
   ]
  },
  {
   "cell_type": "markdown",
   "id": "791ac2b7",
   "metadata": {},
   "source": [
    "- variable is created as soon as you execute a value to the variable."
   ]
  },
  {
   "cell_type": "code",
   "execution_count": 6,
   "id": "079bb84d",
   "metadata": {},
   "outputs": [
    {
     "name": "stdout",
     "output_type": "stream",
     "text": [
      "9\n",
      "11\n"
     ]
    }
   ],
   "source": [
    "x = 9   ## int\n",
    "y = 11  # int\n",
    "print(x)\n",
    "print(y)"
   ]
  },
  {
   "cell_type": "markdown",
   "id": "025f0469",
   "metadata": {},
   "source": [
    "- A variable can store any sort of data type, for example in the above cell we \n",
    "assigned 9 to x is an int, lets see the other data types with variables. "
   ]
  },
  {
   "cell_type": "code",
   "execution_count": 7,
   "id": "edb97141",
   "metadata": {},
   "outputs": [
    {
     "name": "stdout",
     "output_type": "stream",
     "text": [
      "200\n",
      "hola amigos!\n"
     ]
    }
   ],
   "source": [
    "x = 200\n",
    "y = 'hola amigos!'\n",
    "\n",
    "print(x)\n",
    "print(y)"
   ]
  },
  {
   "cell_type": "markdown",
   "id": "a5535abe",
   "metadata": {},
   "source": [
    "- To assign a string value that need to be assigned in between quotes.\n",
    "'',\" \" single quotes or double quotes."
   ]
  },
  {
   "cell_type": "raw",
   "id": "9203d130",
   "metadata": {},
   "source": [
    "x = 89  ## int\n",
    "y = 'this is a cake'   ## str\n",
    "z = 4.0   ## float "
   ]
  },
  {
   "cell_type": "markdown",
   "id": "fa84bc16",
   "metadata": {},
   "source": [
    "## Data type "
   ]
  },
  {
   "cell_type": "code",
   "execution_count": 11,
   "id": "d6294335",
   "metadata": {},
   "outputs": [
    {
     "name": "stdout",
     "output_type": "stream",
     "text": [
      "<class 'int'>\n",
      "<class 'str'>\n",
      "<class 'float'>\n"
     ]
    }
   ],
   "source": [
    "# we can get the data type with type function.\n",
    "\n",
    "\n",
    "x = 1\n",
    "y = 'Iron man'\n",
    "z = 30.00\n",
    "\n",
    "\n",
    "print(type(x))\n",
    "print(type(y))\n",
    "print(type(z))"
   ]
  },
  {
   "cell_type": "code",
   "execution_count": 12,
   "id": "d11e6cc8",
   "metadata": {},
   "outputs": [],
   "source": [
    "### Legal variables\n",
    "\n",
    "myvar = \"John\"\n",
    "my_var = \"John\"\n",
    "_my_var = \"John\"\n",
    "myVar = \"John\"\n",
    "MYVAR = \"John\"\n",
    "myvar2 = \"John\""
   ]
  },
  {
   "cell_type": "code",
   "execution_count": null,
   "id": "54b2214e",
   "metadata": {},
   "outputs": [],
   "source": [
    "### Illegal Variables \n",
    "\n",
    "2myvar = 'deep'\n",
    "my-var='deep'\n",
    "my var = 'deep'"
   ]
  },
  {
   "cell_type": "code",
   "execution_count": 16,
   "id": "fbca1e68",
   "metadata": {},
   "outputs": [
    {
     "name": "stdout",
     "output_type": "stream",
     "text": [
      "apple\n",
      "banana\n",
      "Guava\n"
     ]
    }
   ],
   "source": [
    "### Multiple variable & variables\n",
    "\n",
    "x,y,z = 'apple','banana','Guava'\n",
    "print(x)\n",
    "print(y)\n",
    "print(z)"
   ]
  },
  {
   "cell_type": "code",
   "execution_count": 18,
   "id": "dd178e92",
   "metadata": {},
   "outputs": [
    {
     "name": "stdout",
     "output_type": "stream",
     "text": [
      "WATERMELON\n",
      "WATERMELON\n",
      "WATERMELON\n"
     ]
    }
   ],
   "source": [
    "### One value to Multiple variables\n",
    "\n",
    "a=b=c = 'WATERMELON'\n",
    "print(a)\n",
    "print(b)\n",
    "print(c)"
   ]
  },
  {
   "cell_type": "markdown",
   "id": "b8c2d78b",
   "metadata": {},
   "source": [
    "# Unpack a Collection\n",
    "If you have a collection of values in a list, tuple etc. Python allows you to extract the values into variables. This is called unpacking."
   ]
  },
  {
   "cell_type": "code",
   "execution_count": 19,
   "id": "ba338b92",
   "metadata": {},
   "outputs": [
    {
     "name": "stdout",
     "output_type": "stream",
     "text": [
      "apple\n",
      "lemon\n",
      "pineapple\n"
     ]
    }
   ],
   "source": [
    "Fruits = 'apple','lemon','pineapple'\n",
    "i,j,k = Fruits \n",
    "\n",
    "print(i)\n",
    "print(j)\n",
    "print(k)"
   ]
  },
  {
   "cell_type": "markdown",
   "id": "f61005ff",
   "metadata": {},
   "source": [
    "### Global Variable "
   ]
  },
  {
   "cell_type": "markdown",
   "id": "c7ff9bb8",
   "metadata": {},
   "source": [
    "###### - The variable  that are  created outsdie the functioin are called Global Variable."
   ]
  },
  {
   "cell_type": "code",
   "execution_count": 25,
   "id": "ce6c0b8c",
   "metadata": {},
   "outputs": [
    {
     "name": "stdout",
     "output_type": "stream",
     "text": [
      "waiter: Your order Please!i would i like to have a cup of COFFE\n"
     ]
    }
   ],
   "source": [
    "# ex:-  \n",
    "    \n",
    "x = 'i would i like to have a cup of COFFE'\n",
    " \n",
    "def myfunc():\n",
    "    print(\"waiter: Your order Please!\" +\n",
    "          x)\n",
    "    \n",
    "myfunc()\n",
    " "
   ]
  },
  {
   "cell_type": "markdown",
   "id": "2e857a25",
   "metadata": {},
   "source": [
    "####-  If you create a variable inside the function is Local Variable and the global variable with same name will remain as it was \n",
    ",global and the original value."
   ]
  },
  {
   "cell_type": "code",
   "execution_count": 35,
   "id": "a6ec99de",
   "metadata": {},
   "outputs": [
    {
     "name": "stdout",
     "output_type": "stream",
     "text": [
      "Function methodthis is a keyword\n"
     ]
    }
   ],
   "source": [
    "### THE GLOBAL KEYWORD:\n",
    "\n",
    "\n",
    "def fun():\n",
    " global y\n",
    " y = 'this is a keyword'\n",
    "fun()\n",
    "print(\"Function method\"+ y)"
   ]
  },
  {
   "cell_type": "code",
   "execution_count": 30,
   "id": "b16c4850",
   "metadata": {},
   "outputs": [
    {
     "name": "stdout",
     "output_type": "stream",
     "text": [
      "Python is fantastic\n"
     ]
    }
   ],
   "source": [
    "def myfunc():\n",
    "  global x\n",
    "  x = \"fantastic\"\n",
    "\n",
    "myfunc()\n",
    "\n",
    "print(\"Python is \" + x)\n",
    "\n",
    "\n"
   ]
  },
  {
   "cell_type": "markdown",
   "id": "f16d4e7a",
   "metadata": {},
   "source": [
    "### Built-in Data Types\n",
    "\n",
    "\n",
    "In programming, data type is an important concept.\n",
    "\n",
    "Variables can store data of different types, and different types can do different things.\n",
    "\n",
    "Python has the following data types built-in by default, in these categories:\n",
    "\n",
    "Text Type:\tstr\n",
    "Numeric Types:\tint, float, complex\n",
    "Sequence Types:\tlist, tuple, range\n",
    "Mapping Type:\tdict\n",
    "Set Types:\tset, frozenset\n",
    "Boolean Type:\tbool\n",
    "Binary Types:\tbytes, bytearray, memoryview\n",
    "None Type:\tNoneType"
   ]
  },
  {
   "cell_type": "code",
   "execution_count": 38,
   "id": "9519967e",
   "metadata": {},
   "outputs": [],
   "source": [
    "### Python numbers\"\n",
    "\n",
    "\n",
    "x = 2  ## int\n",
    "y = 2j  ## complex\n",
    "z= 5.0  ### float\n",
    "\n",
    "### converting int to float\n",
    "a = float(x)\n",
    "\n",
    "### converting float to int\n",
    "b = int(z)\n",
    "\n",
    "### Converting int to complex\n",
    "c = complex(y)\n"
   ]
  },
  {
   "cell_type": "code",
   "execution_count": 39,
   "id": "80390c1e",
   "metadata": {},
   "outputs": [
    {
     "name": "stdout",
     "output_type": "stream",
     "text": [
      "2j\n",
      "5\n",
      "2.0\n"
     ]
    }
   ],
   "source": [
    "print(c)\n",
    "print(b)\n",
    "print(a)"
   ]
  },
  {
   "cell_type": "markdown",
   "id": "98da479b",
   "metadata": {},
   "source": [
    "### Random Number"
   ]
  },
  {
   "cell_type": "code",
   "execution_count": 42,
   "id": "0e5c09cb",
   "metadata": {},
   "outputs": [
    {
     "name": "stdout",
     "output_type": "stream",
     "text": [
      "469\n"
     ]
    }
   ],
   "source": [
    "import random \n",
    "x = random.randrange(100,999)\n",
    "print(x)"
   ]
  },
  {
   "cell_type": "markdown",
   "id": "cc297a4c",
   "metadata": {},
   "source": [
    "#### Python string"
   ]
  },
  {
   "cell_type": "markdown",
   "id": "eabb3d02",
   "metadata": {},
   "source": [
    "- string in python are quoted in single and double even with three single quotes .\n",
    "- strings are arrays representing bytes of unicode character.\n",
    "- python dont have character data type, a single character is lenght of 1.\n",
    "- square brackets can be represented to acess the elements in  string."
   ]
  },
  {
   "cell_type": "code",
   "execution_count": 43,
   "id": "f05f01af",
   "metadata": {},
   "outputs": [
    {
     "name": "stdout",
     "output_type": "stream",
     "text": [
      "moon\n"
     ]
    }
   ],
   "source": [
    "print('moon')"
   ]
  },
  {
   "cell_type": "code",
   "execution_count": 44,
   "id": "3a762180",
   "metadata": {},
   "outputs": [
    {
     "name": "stdout",
     "output_type": "stream",
     "text": [
      "This is python example.\n"
     ]
    }
   ],
   "source": [
    "## str with a variable \n",
    "a = 'This is python example.'\n",
    "print(a)"
   ]
  },
  {
   "cell_type": "code",
   "execution_count": 45,
   "id": "0392007b",
   "metadata": {},
   "outputs": [
    {
     "name": "stdout",
     "output_type": "stream",
     "text": [
      "That dog is so friendly , Dogs are best companion\n",
      "for the human being\n",
      "in the process dogs needs to be trained .\n"
     ]
    }
   ],
   "source": [
    "## Multiline str\n",
    "\n",
    "d = '''That dog is so friendly , Dogs are best companion\n",
    "for the human being\n",
    "in the process dogs needs to be trained .'''\n",
    "print(d)"
   ]
  },
  {
   "cell_type": "code",
   "execution_count": 46,
   "id": "a15332dd",
   "metadata": {},
   "outputs": [
    {
     "name": "stdout",
     "output_type": "stream",
     "text": [
      "43\n"
     ]
    }
   ],
   "source": [
    "## Length of str\n",
    "\n",
    "B = 'i am reading a book this is so fascinating.'\n",
    "print(len(B))"
   ]
  },
  {
   "cell_type": "code",
   "execution_count": 47,
   "id": "c720d66f",
   "metadata": {},
   "outputs": [
    {
     "name": "stdout",
     "output_type": "stream",
     "text": [
      "r\n"
     ]
    }
   ],
   "source": [
    "## characters in str\n",
    "\n",
    "print(B[5])"
   ]
  },
  {
   "cell_type": "code",
   "execution_count": 48,
   "id": "5d2a204f",
   "metadata": {},
   "outputs": [
    {
     "name": "stdout",
     "output_type": "stream",
     "text": [
      " \n"
     ]
    }
   ],
   "source": [
    "print(B[4])"
   ]
  },
  {
   "cell_type": "markdown",
   "id": "8ca049bc",
   "metadata": {},
   "source": [
    "###### character position start from 0."
   ]
  },
  {
   "cell_type": "code",
   "execution_count": 51,
   "id": "654d9cba",
   "metadata": {},
   "outputs": [
    {
     "name": "stdout",
     "output_type": "stream",
     "text": [
      "f\n",
      "r\n",
      "u\n",
      "i\n",
      "t\n"
     ]
    }
   ],
   "source": [
    "### Looping through a string.\n",
    "for i in \"fruit\":\n",
    "    print(i)"
   ]
  },
  {
   "cell_type": "code",
   "execution_count": 53,
   "id": "98ece21d",
   "metadata": {},
   "outputs": [
    {
     "name": "stdout",
     "output_type": "stream",
     "text": [
      "True\n"
     ]
    }
   ],
   "source": [
    "### Check if a str is availabel\n",
    "v = 'this is rainy season!, the weather report say its going to be the worst rainfall we see this year'\n",
    "print(\"report\" in v)"
   ]
  },
  {
   "cell_type": "code",
   "execution_count": 54,
   "id": "b877fb49",
   "metadata": {},
   "outputs": [
    {
     "name": "stdout",
     "output_type": "stream",
     "text": [
      "False\n"
     ]
    }
   ],
   "source": [
    "### Check if Not \n",
    "\n",
    "y = ' this is the best summer vacation i spent with my family and days.'\n",
    "print('Chocolcate' in y)"
   ]
  },
  {
   "cell_type": "code",
   "execution_count": 136,
   "id": "7b9e61cb",
   "metadata": {},
   "outputs": [
    {
     "name": "stdout",
     "output_type": "stream",
     "text": [
      "yes\n"
     ]
    }
   ],
   "source": [
    "### PRINTING if statement \n",
    "\n",
    "\n",
    "n = 'Hello nice to meet you raju!'\n",
    "if 'raju' in n:\n",
    "    print(\"yes\")"
   ]
  },
  {
   "cell_type": "markdown",
   "id": "8cd2ba90",
   "metadata": {},
   "source": [
    "### Python slicing "
   ]
  },
  {
   "cell_type": "markdown",
   "id": "0fb8f46c",
   "metadata": {},
   "source": [
    "- scling method return a range of character by using a slicing syntax."
   ]
  },
  {
   "cell_type": "code",
   "execution_count": 57,
   "id": "00074cc7",
   "metadata": {},
   "outputs": [
    {
     "name": "stdout",
     "output_type": "stream",
     "text": [
      "lo thi\n"
     ]
    }
   ],
   "source": [
    "u = \"hello this a programming language.\"\n",
    "print(u[3:9])"
   ]
  },
  {
   "cell_type": "code",
   "execution_count": 63,
   "id": "3ae14216",
   "metadata": {},
   "outputs": [
    {
     "name": "stdout",
     "output_type": "stream",
     "text": [
      "34\n",
      "l\n",
      "a\n",
      "n\n",
      "g\n",
      "u\n",
      "a\n",
      "g\n",
      "e\n",
      "YES\n"
     ]
    }
   ],
   "source": [
    "print(len(u))\n",
    "\n",
    "## \n",
    "for i in \"language\":\n",
    "    print(i)\n",
    "    \n",
    "if 'a' in u:\n",
    "    print('YES')\n",
    "    \n",
    "    "
   ]
  },
  {
   "cell_type": "markdown",
   "id": "d8a7a642",
   "metadata": {},
   "source": [
    "### sciling from start "
   ]
  },
  {
   "cell_type": "code",
   "execution_count": 65,
   "id": "d235dca5",
   "metadata": {},
   "outputs": [
    {
     "name": "stdout",
     "output_type": "stream",
     "text": [
      "hello\n"
     ]
    }
   ],
   "source": [
    "T = 'hello,world!'\n",
    "print(T[:5])"
   ]
  },
  {
   "cell_type": "code",
   "execution_count": 66,
   "id": "985ec4df",
   "metadata": {},
   "outputs": [
    {
     "data": {
      "text/plain": [
       "'h'"
      ]
     },
     "execution_count": 66,
     "metadata": {},
     "output_type": "execute_result"
    }
   ],
   "source": [
    "T[:1]"
   ]
  },
  {
   "cell_type": "code",
   "execution_count": 67,
   "id": "fb1f2924",
   "metadata": {},
   "outputs": [
    {
     "data": {
      "text/plain": [
       "'he'"
      ]
     },
     "execution_count": 67,
     "metadata": {},
     "output_type": "execute_result"
    }
   ],
   "source": [
    "T[:2]"
   ]
  },
  {
   "cell_type": "code",
   "execution_count": 68,
   "id": "b70fd45c",
   "metadata": {},
   "outputs": [
    {
     "data": {
      "text/plain": [
       "'hello,w'"
      ]
     },
     "execution_count": 68,
     "metadata": {},
     "output_type": "execute_result"
    }
   ],
   "source": [
    "T[:7]"
   ]
  },
  {
   "cell_type": "code",
   "execution_count": 69,
   "id": "20946fbb",
   "metadata": {},
   "outputs": [
    {
     "data": {
      "text/plain": [
       "'!'"
      ]
     },
     "execution_count": 69,
     "metadata": {},
     "output_type": "execute_result"
    }
   ],
   "source": [
    "T[-1]"
   ]
  },
  {
   "cell_type": "code",
   "execution_count": 70,
   "id": "cc6a77a0",
   "metadata": {},
   "outputs": [
    {
     "data": {
      "text/plain": [
       "''"
      ]
     },
     "execution_count": 70,
     "metadata": {},
     "output_type": "execute_result"
    }
   ],
   "source": [
    "T[-1:-3]"
   ]
  },
  {
   "cell_type": "code",
   "execution_count": 71,
   "id": "dc18c6ad",
   "metadata": {},
   "outputs": [
    {
     "data": {
      "text/plain": [
       "','"
      ]
     },
     "execution_count": 71,
     "metadata": {},
     "output_type": "execute_result"
    }
   ],
   "source": [
    "T[-7]"
   ]
  },
  {
   "cell_type": "code",
   "execution_count": 72,
   "id": "5e9bec79",
   "metadata": {},
   "outputs": [
    {
     "data": {
      "text/plain": [
       "'o'"
      ]
     },
     "execution_count": 72,
     "metadata": {},
     "output_type": "execute_result"
    }
   ],
   "source": [
    "T[-5]"
   ]
  },
  {
   "cell_type": "code",
   "execution_count": 74,
   "id": "8665b3f3",
   "metadata": {},
   "outputs": [
    {
     "data": {
      "text/plain": [
       "'world!'"
      ]
     },
     "execution_count": 74,
     "metadata": {},
     "output_type": "execute_result"
    }
   ],
   "source": [
    "T[-6:]"
   ]
  },
  {
   "cell_type": "code",
   "execution_count": 76,
   "id": "c2c7f851",
   "metadata": {},
   "outputs": [
    {
     "data": {
      "text/plain": [
       "'d'"
      ]
     },
     "execution_count": 76,
     "metadata": {},
     "output_type": "execute_result"
    }
   ],
   "source": [
    "T[-2]"
   ]
  },
  {
   "cell_type": "markdown",
   "id": "9b396e40",
   "metadata": {},
   "source": [
    "### modify String\n",
    "\n",
    "- split \n",
    "- replace \n",
    "- upper\n",
    "- lower"
   ]
  },
  {
   "cell_type": "code",
   "execution_count": 88,
   "id": "32f27887",
   "metadata": {},
   "outputs": [
    {
     "name": "stdout",
     "output_type": "stream",
     "text": [
      "coffee\n"
     ]
    }
   ],
   "source": [
    "e = 'COFFEE'\n",
    "print(e.lower())"
   ]
  },
  {
   "cell_type": "code",
   "execution_count": 81,
   "id": "46d95212",
   "metadata": {},
   "outputs": [
    {
     "name": "stdout",
     "output_type": "stream",
     "text": [
      "HI\n"
     ]
    }
   ],
   "source": [
    "B = \"hi\"\n",
    "print(B.upper())"
   ]
  },
  {
   "cell_type": "code",
   "execution_count": 83,
   "id": "87dae7ce",
   "metadata": {},
   "outputs": [
    {
     "name": "stdout",
     "output_type": "stream",
     "text": [
      "['PYTHON', 'PROGRAMMING']\n"
     ]
    }
   ],
   "source": [
    "c = \"PYTHON,PROGRAMMING\"\n",
    "print(c.split(\",\"))"
   ]
  },
  {
   "cell_type": "code",
   "execution_count": 84,
   "id": "be8938ff",
   "metadata": {},
   "outputs": [
    {
     "name": "stdout",
     "output_type": "stream",
     "text": [
      "['PYTHON,PROGRAMMING']\n"
     ]
    }
   ],
   "source": [
    "print(c.split())"
   ]
  },
  {
   "cell_type": "code",
   "execution_count": 85,
   "id": "529ba5b3",
   "metadata": {},
   "outputs": [
    {
     "name": "stdout",
     "output_type": "stream",
     "text": [
      "SportS are beSt way to Stay fit.\n"
     ]
    }
   ],
   "source": [
    "D = 'sports are best way to stay fit.'\n",
    "print(D.replace(\"s\",\"S\"))"
   ]
  },
  {
   "cell_type": "code",
   "execution_count": 86,
   "id": "1f3791cc",
   "metadata": {},
   "outputs": [
    {
     "name": "stdout",
     "output_type": "stream",
     "text": [
      "sporTs are besT way To sTay fiT.\n"
     ]
    }
   ],
   "source": [
    "print(D.replace('t','T'))"
   ]
  },
  {
   "cell_type": "markdown",
   "id": "5951dcf9",
   "metadata": {},
   "source": [
    "#### ----------------------------"
   ]
  },
  {
   "cell_type": "markdown",
   "id": "5cf34456",
   "metadata": {},
   "source": [
    "### Concatenation"
   ]
  },
  {
   "cell_type": "code",
   "execution_count": 93,
   "id": "bb5ab9cf",
   "metadata": {},
   "outputs": [
    {
     "name": "stdout",
     "output_type": "stream",
     "text": [
      "helloworld!\n"
     ]
    }
   ],
   "source": [
    "a = \"hello\"\n",
    "b= \"world!\"\n",
    "c = a+b\n",
    "print(c)"
   ]
  },
  {
   "cell_type": "code",
   "execution_count": 92,
   "id": "70fb8fa1",
   "metadata": {},
   "outputs": [
    {
     "name": "stdout",
     "output_type": "stream",
     "text": [
      "I am playing guitar i practicsed for 2yrs\n"
     ]
    }
   ],
   "source": [
    "e = 'I am playing guitar'\n",
    "f = 'i practicsed for 2yrs'\n",
    "g = e+\" \"+f\n",
    "print(g)"
   ]
  },
  {
   "cell_type": "markdown",
   "id": "cac58298",
   "metadata": {},
   "source": [
    "### String Format"
   ]
  },
  {
   "cell_type": "markdown",
   "id": "e8aa1b67",
   "metadata": {},
   "source": [
    "## \n",
    "- we cant combine both the string and the number, we use Format {} method by using square brackets."
   ]
  },
  {
   "cell_type": "code",
   "execution_count": 96,
   "id": "e9b9e8a2",
   "metadata": {},
   "outputs": [
    {
     "name": "stdout",
     "output_type": "stream",
     "text": [
      "this is a 99 year old tortoise\n"
     ]
    }
   ],
   "source": [
    "age = 99\n",
    "a = \"this is a {} year old tortoise\"\n",
    "print(a.format(age))"
   ]
  },
  {
   "cell_type": "code",
   "execution_count": 102,
   "id": "7c0ce1ac",
   "metadata": {},
   "outputs": [
    {
     "name": "stdout",
     "output_type": "stream",
     "text": [
      "I want 4 pieces of item 3 for 56.6 dollars.\n"
     ]
    }
   ],
   "source": [
    "quantity = 4\n",
    "itemno = 3\n",
    "price= 56.6\n",
    "\n",
    "my_order =  \"I want {} pieces of item {} for {} dollars.\"\n",
    "print(my_order.format(quantity,itemno,price))"
   ]
  },
  {
   "cell_type": "markdown",
   "id": "835be05f",
   "metadata": {},
   "source": [
    "### Boolen values "
   ]
  },
  {
   "cell_type": "markdown",
   "id": "be2c91e1",
   "metadata": {},
   "source": [
    "- In programming languauge often need to known the expression is True or False.\n",
    "- when we compare two value , the expression is evaluated and program retuens the boolen value."
   ]
  },
  {
   "cell_type": "code",
   "execution_count": 103,
   "id": "80c8790c",
   "metadata": {},
   "outputs": [
    {
     "name": "stdout",
     "output_type": "stream",
     "text": [
      "True\n",
      "False\n",
      "True\n"
     ]
    }
   ],
   "source": [
    "print(98>54)\n",
    "print(100==5)\n",
    "print(89<90)"
   ]
  },
  {
   "cell_type": "code",
   "execution_count": 104,
   "id": "e3e5385b",
   "metadata": {},
   "outputs": [
    {
     "name": "stdout",
     "output_type": "stream",
     "text": [
      "Not\n"
     ]
    }
   ],
   "source": [
    "# using condition to print true or false.\n",
    "\n",
    "a = 60 \n",
    "b = 500\n",
    "\n",
    "if a>b:\n",
    "    print(\"a is greater than b\")\n",
    "else:\n",
    "    print('Not')"
   ]
  },
  {
   "cell_type": "code",
   "execution_count": 105,
   "id": "61b49b25",
   "metadata": {},
   "outputs": [
    {
     "name": "stdout",
     "output_type": "stream",
     "text": [
      "True\n",
      "True\n"
     ]
    }
   ],
   "source": [
    "print(bool(\"Hello\"))\n",
    "print(bool(321))"
   ]
  },
  {
   "cell_type": "code",
   "execution_count": 116,
   "id": "9ed15448",
   "metadata": {},
   "outputs": [
    {
     "name": "stdout",
     "output_type": "stream",
     "text": [
      "False\n"
     ]
    }
   ],
   "source": [
    "## class \n",
    "\n",
    "\n",
    "class myclass():\n",
    " def __len__(self):\n",
    "        return 0\n",
    "myobj = myclass()\n",
    "print(bool(myobj))\n",
    "        "
   ]
  },
  {
   "cell_type": "code",
   "execution_count": 118,
   "id": "db1a621f",
   "metadata": {},
   "outputs": [
    {
     "name": "stdout",
     "output_type": "stream",
     "text": [
      "True\n"
     ]
    }
   ],
   "source": [
    "## Function with boolean \n",
    "\n",
    "def myfunc():\n",
    "    return true\n",
    "print(bool(myfunc))"
   ]
  },
  {
   "cell_type": "code",
   "execution_count": 120,
   "id": "924e8b56",
   "metadata": {},
   "outputs": [
    {
     "name": "stdout",
     "output_type": "stream",
     "text": [
      "Yes\n"
     ]
    }
   ],
   "source": [
    "def myfunction():\n",
    "    return True\n",
    "\n",
    "if myfunction():\n",
    "    print('Yes')\n",
    "    \n",
    "else:\n",
    "    print('No')"
   ]
  },
  {
   "cell_type": "code",
   "execution_count": 123,
   "id": "4ef166fd",
   "metadata": {},
   "outputs": [
    {
     "name": "stdout",
     "output_type": "stream",
     "text": [
      "yes\n"
     ]
    }
   ],
   "source": [
    "def myfunction():\n",
    "    return '1'\n",
    "if myfunction():\n",
    "    print('yes')\n",
    "    \n",
    "else:\n",
    "    print('no')"
   ]
  },
  {
   "cell_type": "code",
   "execution_count": 127,
   "id": "d8c1ec99",
   "metadata": {},
   "outputs": [
    {
     "name": "stdout",
     "output_type": "stream",
     "text": [
      "True\n"
     ]
    }
   ],
   "source": [
    "## To check if object is integer \n",
    "\n",
    "x =700\n",
    "print(isinstance(x,int))\n"
   ]
  },
  {
   "cell_type": "code",
   "execution_count": 128,
   "id": "b9263600",
   "metadata": {},
   "outputs": [
    {
     "name": "stdout",
     "output_type": "stream",
     "text": [
      "False\n"
     ]
    }
   ],
   "source": [
    "print(isinstance(x,str))"
   ]
  },
  {
   "cell_type": "code",
   "execution_count": 130,
   "id": "9a177041",
   "metadata": {},
   "outputs": [
    {
     "name": "stdout",
     "output_type": "stream",
     "text": [
      "True\n"
     ]
    }
   ],
   "source": [
    "\n",
    "B = 'hello world!'\n",
    "print(isinstance(B,str))"
   ]
  },
  {
   "cell_type": "markdown",
   "id": "631e5012",
   "metadata": {},
   "source": [
    "### Python Arthematic Operators."
   ]
  },
  {
   "cell_type": "code",
   "execution_count": 132,
   "id": "d4106263",
   "metadata": {},
   "outputs": [
    {
     "name": "stdout",
     "output_type": "stream",
     "text": [
      "168\n",
      "10\n",
      "7031\n",
      "10\n",
      "10041775896567867051150191826072148600847946887931310379010988412731970141804844252682280796243428431264519744965187858297632233411857019727487141621532009\n",
      "1\n",
      "1.1265822784810127\n"
     ]
    }
   ],
   "source": [
    "## + addition\n",
    "x = 89\n",
    "y = 79\n",
    "print(x+y)\n",
    "\n",
    "\n",
    "## subtraction\n",
    "print(x-y)\n",
    "\n",
    "## multiplication\n",
    "print(x*y)\n",
    "\n",
    "## modulus \n",
    "print(x%y)\n",
    "\n",
    "## exponent\n",
    "print(x**y)\n",
    "\n",
    "##Floor division \n",
    "print(x//y)\n",
    "\n",
    "\n",
    "## Division\n",
    "print(x/y)"
   ]
  },
  {
   "cell_type": "markdown",
   "id": "7fb25bb6",
   "metadata": {},
   "source": [
    "#### Python comaprision operator."
   ]
  },
  {
   "cell_type": "code",
   "execution_count": 134,
   "id": "551550ea",
   "metadata": {},
   "outputs": [
    {
     "name": "stdout",
     "output_type": "stream",
     "text": [
      "True\n",
      "True\n",
      "False\n",
      "True\n",
      "False\n",
      "True\n"
     ]
    }
   ],
   "source": [
    "## greater than\n",
    "print(x>y)                             \n",
    "\n",
    "## less than\n",
    "print(y<x)\n",
    "\n",
    "### equals to\n",
    "print(x==y)\n",
    "\n",
    "\n",
    "##greater than equal to\n",
    "print(x>=y)\n",
    "\n",
    "## less than equal to\n",
    "print(x<=y)\n",
    "\n",
    "## not equal \n",
    "print(x!=y)\n"
   ]
  },
  {
   "cell_type": "markdown",
   "id": "757452dd",
   "metadata": {},
   "source": [
    "### \\-----------------------------------------------"
   ]
  }
 ],
 "metadata": {
  "kernelspec": {
   "display_name": "Python 3 (ipykernel)",
   "language": "python",
   "name": "python3"
  },
  "language_info": {
   "codemirror_mode": {
    "name": "ipython",
    "version": 3
   },
   "file_extension": ".py",
   "mimetype": "text/x-python",
   "name": "python",
   "nbconvert_exporter": "python",
   "pygments_lexer": "ipython3",
   "version": "3.8.8"
  }
 },
 "nbformat": 4,
 "nbformat_minor": 5
}
